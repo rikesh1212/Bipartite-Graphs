{
 "cells": [
  {
   "cell_type": "code",
   "execution_count": 104,
   "id": "cosmetic-arrow",
   "metadata": {},
   "outputs": [],
   "source": [
    "# Import Libraries\n",
    "import pandas as pd\n",
    "import numpy as np\n",
    "import networkx as nx\n",
    "from networkx.algorithms import bipartite\n",
    "\n",
    "\n"
   ]
  },
  {
   "cell_type": "code",
   "execution_count": 147,
   "id": "electric-kennedy",
   "metadata": {},
   "outputs": [],
   "source": [
    "#reading csv files\n",
    "df_edges = pd.read_csv('edges_L6.csv')\n",
    "df_nodes = pd.read_csv('nodes_l6.csv')\n",
    "\n"
   ]
  },
  {
   "cell_type": "code",
   "execution_count": 106,
   "id": "directed-backup",
   "metadata": {},
   "outputs": [],
   "source": [
    "#initialize graph\n",
    "G = nx.Graph()\n"
   ]
  },
  {
   "cell_type": "code",
   "execution_count": 107,
   "id": "attempted-genealogy",
   "metadata": {},
   "outputs": [],
   "source": [
    "#find edges\n",
    "def ObtainEdges(df):\n",
    "    edges_list = [];\n",
    "    for index, info in df.iterrows():\n",
    "        edges_list.append((info[0], info[1]))\n",
    "    return edges_list\n"
   ]
  },
  {
   "cell_type": "code",
   "execution_count": 108,
   "id": "stunning-administration",
   "metadata": {},
   "outputs": [],
   "source": [
    "edges_list = ObtainEdges(df_edges)\n"
   ]
  },
  {
   "cell_type": "code",
   "execution_count": 109,
   "id": "diverse-owner",
   "metadata": {},
   "outputs": [],
   "source": [
    "# find nodes\n",
    "def ObtainAttr(df):\n",
    "    attr_dict = dict()\n",
    "    for index, info in df.iterrows():\n",
    "        attr_dict[info[0]] = info[1];\n",
    "    return attr_dict\n",
    "\n"
   ]
  },
  {
   "cell_type": "code",
   "execution_count": 110,
   "id": "configured-thermal",
   "metadata": {},
   "outputs": [],
   "source": [
    "attr_dict= ObtainAttr(df_nodes)"
   ]
  },
  {
   "cell_type": "code",
   "execution_count": 146,
   "id": "framed-married",
   "metadata": {},
   "outputs": [],
   "source": [
    "# Task 1\n",
    "#Number of Nodes in each node set\n",
    "no_nodes = len(attr_dict)\n",
    "\n",
    "\n",
    "#Number of Edges in  each node set\n",
    "no_edges = len(edges_list)\n",
    "\n",
    "\n"
   ]
  },
  {
   "cell_type": "code",
   "execution_count": 145,
   "id": "beneficial-maldives",
   "metadata": {},
   "outputs": [],
   "source": [
    "df_nodes_list1 = df_nodes['pol_ge_sp'].tolist()\n",
    "df_nodes_list2 = df_nodes['plant_ge'].tolist()\n",
    "\n",
    "\n",
    "G.add_nodes_from(df_nodes_list1, bipartite=0)\n",
    "G.add_nodes_from(df_nodes_list2, bipartite=1)\n",
    "G.add_edges_from(edges_list)\n",
    "\n",
    "\n"
   ]
  },
  {
   "cell_type": "code",
   "execution_count": 144,
   "id": "induced-comment",
   "metadata": {},
   "outputs": [],
   "source": [
    "# Using Maximum Cardinal Matching to calculate the desired result\n",
    "# Task 2\n",
    "# Plants pollinated by the most insects\n",
    "my_matching1 = bipartite.matching.hopcroft_karp_matching(G,df_nodes_list1)\n",
    "\n",
    "\n",
    "#Insects that pollinate the most plants\n",
    "my_matching2 = bipartite.matching.hopcroft_karp_matching(G,df_nodes_list2)\n"
   ]
  },
  {
   "cell_type": "code",
   "execution_count": 143,
   "id": "greek-adobe",
   "metadata": {},
   "outputs": [],
   "source": [
    "#Task 3\n",
    "# Strongest Competitor\n",
    "\n",
    "strong_matching = bipartite.maximum_matching(G,df_nodes_list1)\n",
    "\n"
   ]
  },
  {
   "cell_type": "code",
   "execution_count": 142,
   "id": "organizational-preserve",
   "metadata": {},
   "outputs": [],
   "source": [
    "#Task 4\n",
    "# 4.a Projected Networks\n",
    "# splitting lists\n",
    "\n",
    "def split_list(a_list):\n",
    "    half = len(a_list)//2\n",
    "    return a_list[:half], a_list[half:]\n",
    "\n",
    "net1,net2 = split_list([*attr_dict])\n",
    "\n",
    "\n",
    "#one projected network\n",
    "B1 = nx.path_graph(no_nodes)\n",
    "X1 = bipartite.projected_graph(B1, net1)\n",
    "c1 = list(X1)\n",
    "e1 = list(X1.edges())\n",
    "# 4.b \n",
    "\n",
    "#no of nodes\n",
    "cnt1 = len(c)\n",
    "\n",
    "#no of edges\n",
    "ent1 = len(e1)\n",
    "\n",
    "\n",
    "#average degree\n",
    "avg_degree1 = nx.k_nearest_neighbors(X1)\n",
    "\n",
    "\n",
    "\n",
    "#next projected network\n",
    "B2= nx.path_graph(no_nodes)\n",
    "X2 = bipartite.projected_graph(B2, net2)\n",
    "c2 = list(X2)\n",
    "e2 = list(X2.edges())\n",
    "# 4.b \n",
    "\n",
    "#no of nodes\n",
    "cnt2 = len(c2)\n",
    "\n",
    "\n",
    "#no of edges\n",
    "ent2 = len(e2)\n",
    "\n",
    "\n",
    "#average degree\n",
    "avg_degree2 = nx.k_nearest_neighbors(X2)\n",
    "\n",
    "\n",
    "\n"
   ]
  },
  {
   "cell_type": "code",
   "execution_count": 141,
   "id": "third-contract",
   "metadata": {},
   "outputs": [],
   "source": [
    "# Task 5\n",
    "\n",
    "#5.a\n",
    "\n",
    "degree_cent1 = nx.degree_centrality(X1)\n",
    "\n",
    "\n",
    "degree_cent2 = nx.degree_centrality(X2)\n",
    "\n",
    "\n",
    "#calculate largest degree centrality in both networks\n",
    "large_degree_cent1 = max(k for k, v in degree_cent1.items() if v != 0)\n",
    "\n",
    "\n",
    "large_degree_cent2 = max(k for k, v in degree_cent2.items() if v != 0)\n",
    "\n"
   ]
  },
  {
   "cell_type": "code",
   "execution_count": 138,
   "id": "pursuant-familiar",
   "metadata": {},
   "outputs": [],
   "source": [
    "# Task 6\n",
    "#find the isolated nodes\n",
    "\n",
    "is_node1 = list(nx.isolates(X1))\n",
    "\n",
    "\n",
    "is_node2 = list(nx.isolates(X2))\n",
    "\n",
    "\n"
   ]
  },
  {
   "cell_type": "code",
   "execution_count": 155,
   "id": "particular-ceiling",
   "metadata": {},
   "outputs": [],
   "source": [
    "# Task 7\n",
    "# Clustering into subgroups\n",
    "\n",
    "#These are just clustering coefficients. We will need to use scikit-learn to actually regroup them.\n",
    "\n",
    "clustr1 = nx.clustering(X1)\n",
    "\n",
    "clustr2 = nx.clustering(X2)\n",
    "\n"
   ]
  },
  {
   "cell_type": "code",
   "execution_count": 156,
   "id": "center-safety",
   "metadata": {},
   "outputs": [],
   "source": [
    "# Task 8\n",
    "\n",
    "#Calculating degree assortativity coefficient\n",
    "\n",
    "r1 = nx.degree_assortativity_coefficient(X1)\n",
    "\n",
    "r2 = nx.degree_assortativity_coefficient(X2)\n",
    "\n"
   ]
  },
  {
   "cell_type": "code",
   "execution_count": null,
   "id": "quality-ethics",
   "metadata": {},
   "outputs": [],
   "source": [
    "# Task 9\n",
    "\n"
   ]
  }
 ],
 "metadata": {
  "kernelspec": {
   "display_name": "Python 3",
   "language": "python",
   "name": "python3"
  },
  "language_info": {
   "codemirror_mode": {
    "name": "ipython",
    "version": 3
   },
   "file_extension": ".py",
   "mimetype": "text/x-python",
   "name": "python",
   "nbconvert_exporter": "python",
   "pygments_lexer": "ipython3",
   "version": "3.8.5"
  }
 },
 "nbformat": 4,
 "nbformat_minor": 5
}
